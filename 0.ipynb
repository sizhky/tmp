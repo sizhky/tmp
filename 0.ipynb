{
 "cells": [
  {
   "cell_type": "code",
   "execution_count": 69,
   "id": "32f05bb3",
   "metadata": {
    "ExecuteTime": {
     "end_time": "2021-11-10T17:12:08.365447Z",
     "start_time": "2021-11-10T17:12:08.358505Z"
    }
   },
   "outputs": [],
   "source": [
    "import re\n",
    "from torch_snippets import *\n",
    "from torch_snippets.markup import *\n",
    "from fastcore.foundation import *"
   ]
  },
  {
   "cell_type": "code",
   "execution_count": 66,
   "id": "01505d33",
   "metadata": {
    "ExecuteTime": {
     "end_time": "2021-11-10T16:53:46.481849Z",
     "start_time": "2021-11-10T16:53:46.472114Z"
    }
   },
   "outputs": [
    {
     "data": {
      "text/plain": [
       "({'1': '### 1  A: What is the mean of column {x} in the file {file}    ---   ',\n",
       "  '2': '### 2  B: How many rows are present in the file {file}    ---   ',\n",
       "  '3': '### 3  C: How many missing values are present in the column {x} of {file}'},\n",
       " {'1': ['x', 'file'], '2': ['file'], '3': ['x', 'file']})"
      ]
     },
     "execution_count": 66,
     "metadata": {},
     "output_type": "execute_result"
    }
   ],
   "source": [
    "template = AttrDict(read_json('Template.ipynb'))\n",
    "\n",
    "def remove(string, chars):\n",
    "    for char in chars:\n",
    "        string = string.replace(char, '')\n",
    "    return string\n",
    "\n",
    "def get_questions(template):\n",
    "    questions = L([cell for cell in template.cells if ''.join(cell.source).startswith('# Questions')][0].source)\n",
    "    ixs = [ix for ix,q in enumerate(questions) if re.match('^### \\d+', q)] + [len(questions)]\n",
    "    questions = [' '.join(questions[slice(ixs[jx], ixs[jx+1])]) for jx in range(len(ixs)-1)]\n",
    "    questions = {re.match('^###\\s+([\\d]+)', q).group(0).replace(\"###\", \"\").strip(): q.replace('\\n', ' ') for q in questions}\n",
    "    variables = {k: [remove(variable, '{}') for variable in re.findall(r'\\{[a-z]+\\}', v)] for k,v in questions.items()}\n",
    "    return questions, variables\n",
    "\n",
    "qs = get_questions(template)\n",
    "qs"
   ]
  },
  {
   "cell_type": "code",
   "execution_count": null,
   "id": "553d463c",
   "metadata": {},
   "outputs": [],
   "source": []
  }
 ],
 "metadata": {
  "kernelspec": {
   "display_name": "Python 3 (ipykernel)",
   "language": "python",
   "name": "python3"
  },
  "language_info": {
   "codemirror_mode": {
    "name": "ipython",
    "version": 3
   },
   "file_extension": ".py",
   "mimetype": "text/x-python",
   "name": "python",
   "nbconvert_exporter": "python",
   "pygments_lexer": "ipython3",
   "version": "3.9.5"
  }
 },
 "nbformat": 4,
 "nbformat_minor": 5
}
