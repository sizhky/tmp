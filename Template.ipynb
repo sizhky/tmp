{
 "cells": [
  {
   "cell_type": "markdown",
   "id": "deb404aa",
   "metadata": {},
   "source": [
    "# Questions\n",
    "### 1\n",
    "A: What is the mean of column {x} in the file {file}\n",
    "\n",
    "---\n",
    "\n",
    "### 2\n",
    "B: How many rows are present in the file {file}\n",
    "\n",
    "---\n",
    "\n",
    "### 3\n",
    "C: How many missing values are present in the column {x} of {file}"
   ]
  },
  {
   "cell_type": "code",
   "execution_count": 4,
   "id": "e42ed8bf",
   "metadata": {
    "ExecuteTime": {
     "end_time": "2021-11-10T15:27:12.606623Z",
     "start_time": "2021-11-10T15:27:12.603863Z"
    }
   },
   "outputs": [],
   "source": [
    "A = None\n",
    "B = None\n",
    "C = None"
   ]
  },
  {
   "cell_type": "code",
   "execution_count": 8,
   "id": "f0dca18e",
   "metadata": {
    "ExecuteTime": {
     "end_time": "2021-11-10T17:33:45.481027Z",
     "start_time": "2021-11-10T17:33:45.468674Z"
    }
   },
   "outputs": [
    {
     "data": {
      "text/plain": [
       "[('pollution.csv', 'city'),\n",
       " ('pollution.csv', 'time'),\n",
       " ('pollution.csv', 'pollution_level'),\n",
       " ('iris.csv', 'petal_width'),\n",
       " ('iris.csv', 'sepal_width')]"
      ]
     },
     "execution_count": 8,
     "metadata": {},
     "output_type": "execute_result"
    }
   ],
   "source": [
    "[(file, column) for file, columns in {\n",
    "    'pollution.csv': ['city','time','pollution_level'],\n",
    "    'iris.csv': ['petal_width','sepal_width']\n",
    "}.items() for column in columns]"
   ]
  },
  {
   "cell_type": "code",
   "execution_count": 5,
   "id": "035c4590",
   "metadata": {
    "ExecuteTime": {
     "end_time": "2021-11-10T15:58:21.346783Z",
     "start_time": "2021-11-10T15:58:21.340923Z"
    }
   },
   "outputs": [],
   "source": [
    "@space(file = {\n",
    "    'pollution.csv': {'x': ['city','time','pollution_level']},\n",
    "    'iris.csv': {'x': ['petal_width','sepal_width']}\n",
    "})\n",
    "def question_a(x, file):\n",
    "    return pd.read_csv(file)[x].mean()\n",
    "\n",
    "@space({'file': ['iris.csv', 'boston.csv']})\n",
    "def question_b(file):\n",
    "    return len(pd.read_csv(file))\n",
    "\n",
    "def question_c(x, file):\n",
    "    return pd.read_csv(file)[x].isna().sum()"
   ]
  }
 ],
 "metadata": {
  "kernelspec": {
   "display_name": "Python 3 (ipykernel)",
   "language": "python",
   "name": "python3"
  },
  "language_info": {
   "codemirror_mode": {
    "name": "ipython",
    "version": 3
   },
   "file_extension": ".py",
   "mimetype": "text/x-python",
   "name": "python",
   "nbconvert_exporter": "python",
   "pygments_lexer": "ipython3",
   "version": "3.9.5"
  }
 },
 "nbformat": 4,
 "nbformat_minor": 5
}
